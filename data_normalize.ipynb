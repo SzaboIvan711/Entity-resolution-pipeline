{
 "cells": [
  {
   "cell_type": "code",
   "execution_count": null,
   "id": "ed1af64b",
   "metadata": {},
   "outputs": [],
   "source": [
    "import pandas as pd \n",
    "import re\n",
    "from tests.Normalize_functions import clean_text, clean_email, normalize_phone, normalize_zip\n",
    "\n",
    "df = pd.read_csv(\"data/customers_synthetic.csv\")"
   ]
  },
  {
   "cell_type": "code",
   "execution_count": 2,
   "id": "8ffd6cf1",
   "metadata": {},
   "outputs": [],
   "source": [
    "df[\"Name_norm\"] = df[\"name\"].apply(clean_text)\n",
    "df[\"City_norm\"] = df[\"city\"].apply(clean_text)\n",
    "df[\"Street_norm\"] = df[\"street\"].apply(clean_text)\n",
    "df[\"Email_norm\"] = df[\"email\"].apply(lambda x: clean_email(x))\n",
    "df[\"Zip_norm\"] = df[\"zip\"].apply(lambda x: normalize_zip(x, length=5))\n",
    "df[\"Phone_norm\"] = df[\"phone\"].apply(lambda x: normalize_phone(x, length=10))"
   ]
  },
  {
   "cell_type": "code",
   "execution_count": 3,
   "id": "4a4b69e8",
   "metadata": {},
   "outputs": [],
   "source": [
    "df[[\"Phone_norm\", \"Zip_norm\"]] = df[[\"Phone_norm\", \"Zip_norm\"]].astype(str)"
   ]
  },
  {
   "cell_type": "code",
   "execution_count": 4,
   "id": "8b12a034",
   "metadata": {},
   "outputs": [
    {
     "name": "stdout",
     "output_type": "stream",
     "text": [
      "<class 'pandas.core.frame.DataFrame'>\n",
      "RangeIndex: 734 entries, 0 to 733\n",
      "Data columns (total 13 columns):\n",
      " #   Column       Non-Null Count  Dtype \n",
      "---  ------       --------------  ----- \n",
      " 0   row_id       734 non-null    int64 \n",
      " 1   name         734 non-null    object\n",
      " 2   street       734 non-null    object\n",
      " 3   city         734 non-null    object\n",
      " 4   zip          734 non-null    int64 \n",
      " 5   email        734 non-null    object\n",
      " 6   phone        734 non-null    int64 \n",
      " 7   Name_norm    734 non-null    object\n",
      " 8   City_norm    734 non-null    object\n",
      " 9   Street_norm  734 non-null    object\n",
      " 10  Email_norm   734 non-null    object\n",
      " 11  Zip_norm     734 non-null    object\n",
      " 12  Phone_norm   734 non-null    object\n",
      "dtypes: int64(3), object(10)\n",
      "memory usage: 74.7+ KB\n"
     ]
    }
   ],
   "source": [
    "df.info()"
   ]
  },
  {
   "cell_type": "code",
   "execution_count": 5,
   "id": "82740ed3",
   "metadata": {},
   "outputs": [],
   "source": [
    "norm_cols = [col for col in df.columns if col.endswith('_norm') or col in [\"row_id\", \"uid\"]]\n",
    "df_norm = df[norm_cols]\n",
    "\n",
    "df_norm.to_csv(\"data/clear_data_without.csv\", index=False)"
   ]
  }
 ],
 "metadata": {
  "kernelspec": {
   "display_name": "base",
   "language": "python",
   "name": "python3"
  },
  "language_info": {
   "codemirror_mode": {
    "name": "ipython",
    "version": 3
   },
   "file_extension": ".py",
   "mimetype": "text/x-python",
   "name": "python",
   "nbconvert_exporter": "python",
   "pygments_lexer": "ipython3",
   "version": "3.12.7"
  }
 },
 "nbformat": 4,
 "nbformat_minor": 5
}
