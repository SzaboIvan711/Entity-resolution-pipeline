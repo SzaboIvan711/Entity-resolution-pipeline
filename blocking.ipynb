{
 "cells": [
  {
   "cell_type": "code",
   "execution_count": 12,
   "id": "2c93dce9",
   "metadata": {},
   "outputs": [],
   "source": [
    "import pandas as pd \n",
    "from itertools import combinations\n",
    "import re\n",
    "\n",
    "df = pd.read_csv(\"data/clear_data.csv\", dtype={\"Phone_norm\": str, \"Zip_norm\": str})"
   ]
  },
  {
   "cell_type": "code",
   "execution_count": 14,
   "id": "6a854ab6",
   "metadata": {},
   "outputs": [],
   "source": [
    "df = df.copy()\n",
    "\n",
    "# гарантируем строки и нормализацию\n",
    "df['Email_norm'] = df['Email_norm'].str.strip().str.lower()\n",
    "df['Phone_norm'] = df['Phone_norm'].astype(str).str.replace(r'\\D','', regex=True)\n",
    "df['Zip_norm']   = df['Zip_norm'].astype(str).str.zfill(5)\n",
    "df['Name_norm']  = df['Name_norm'].str.strip().str.lower()\n",
    "df['Street_norm']= df['Street_norm'].str.strip().str.lower()\n",
    "if 'City_norm' in df:\n",
    "    df['City_norm'] = df['City_norm'].str.strip().str.lower()\n",
    "\n",
    "# служебные фичи для блокинга\n",
    "df['email_domain'] = df['Email_norm'].str.split('@').str[-1]\n",
    "df['phone_last4']  = df['Phone_norm'].str[-4:]\n",
    "df['name0']        = df['Name_norm'].str[:1]\n"
   ]
  },
  {
   "cell_type": "code",
   "execution_count": 15,
   "id": "c42aae8b",
   "metadata": {},
   "outputs": [],
   "source": [
    "blocks = {\n",
    "    'domain_zip':  df['email_domain'] + '_' + df['Zip_norm'],\n",
    "    'pl4_zip':     df['phone_last4']  + '_' + df['Zip_norm'],\n",
    "    'name0_zip':   df['name0']        + '_' + df['Zip_norm'],\n",
    "}\n",
    "# при наличии города можешь добавить:\n",
    "if 'City_norm' in df:\n",
    "    blocks['city_zip'] = df['City_norm'] + '_' + df['Zip_norm']\n"
   ]
  },
  {
   "cell_type": "code",
   "execution_count": 19,
   "id": "adc080cd",
   "metadata": {},
   "outputs": [
    {
     "name": "stdout",
     "output_type": "stream",
     "text": [
      "{'PC': 1.0, 'RR': 0.9988178922051515, 'PQ': 0.9905660377358491, 'true_pairs': 315, 'cand_pairs': 318}\n",
      "\n",
      "domain_zip – размер→кол-во групп\n",
      "2    74\n",
      "3    72\n",
      "Name: count, dtype: int64\n",
      "\n",
      "pl4_zip – размер→кол-во групп\n",
      "2    76\n",
      "3    71\n",
      "Name: count, dtype: int64\n",
      "\n",
      "name0_zip – размер→кол-во групп\n",
      "2    78\n",
      "3    73\n",
      "Name: count, dtype: int64\n",
      "\n",
      "city_zip – размер→кол-во групп\n",
      "2    74\n",
      "3    72\n",
      "Name: count, dtype: int64\n"
     ]
    }
   ],
   "source": [
    "def true_pairs(df, uid_col='uid'):\n",
    "    T=set()\n",
    "    for _, g in df.groupby(uid_col).groups.items():\n",
    "        g=list(g)\n",
    "        for i,j in combinations(sorted(g),2):\n",
    "            T.add((i,j))\n",
    "    return T\n",
    "\n",
    "def candidate_pairs_from_blocks(df, block_specs: dict):\n",
    "    C=set(); size_hist={}\n",
    "    for name, ser in block_specs.items():\n",
    "        groups = ser.groupby(ser).groups\n",
    "        sizes=[]\n",
    "        for _, idxs in groups.items():\n",
    "            idxs=list(map(int, idxs)); m=len(idxs)\n",
    "            if m>1:\n",
    "                sizes.append(m)\n",
    "                for i,j in combinations(sorted(idxs),2):\n",
    "                    C.add((i,j))\n",
    "        size_hist[name] = pd.Series(sizes).value_counts().sort_index()\n",
    "    return C, size_hist\n",
    "\n",
    "def blocking_metrics(df, blocks, uid_col='uid'):\n",
    "    T = true_pairs(df, uid_col)\n",
    "    C, size_hist = candidate_pairs_from_blocks(df, blocks)\n",
    "    n=len(df); total = n*(n-1)//2\n",
    "    PC = len(T & C)/max(len(T),1)                       # recall (pairs completeness)\n",
    "    RR = 1 - len(C)/total                               # reduction ratio\n",
    "    PQ = len(T & C)/max(len(C),1)                       # pairs quality\n",
    "    return {'PC':PC,'RR':RR,'PQ':PQ,\n",
    "            'true_pairs':len(T),'cand_pairs':len(C),\n",
    "            'size_hist':size_hist, 'cand_set':C}\n",
    "\n",
    "m = blocking_metrics(df, blocks, uid_col='uid')\n",
    "print({k:v for k,v in m.items() if k not in ['size_hist','cand_set']})\n",
    "for name,hist in m['size_hist'].items():\n",
    "    print(f'\\n{name} – размер→кол-во групп'); print(hist.head(10))\n"
   ]
  },
  {
   "cell_type": "code",
   "execution_count": 17,
   "id": "be2c1077",
   "metadata": {},
   "outputs": [
    {
     "data": {
      "text/plain": [
       "318"
      ]
     },
     "execution_count": 17,
     "metadata": {},
     "output_type": "execute_result"
    }
   ],
   "source": [
    "cand_pairs = m['cand_set']      # или m2['cand_set'] после прунинга\n",
    "len(cand_pairs)                  # это и есть вход для правил/модели"
   ]
  },
  {
   "cell_type": "code",
   "execution_count": 12,
   "id": "659104c7",
   "metadata": {},
   "outputs": [],
   "source": [
    "\n",
    "cand_df = pd.DataFrame(list(m['cand_set']), columns=['i','j'])\n",
    "cand_df.to_csv('data/cand_pairs.csv', index=False)  # или .csv\n"
   ]
  },
  {
   "cell_type": "code",
   "execution_count": null,
   "id": "5323ac74",
   "metadata": {},
   "outputs": [],
   "source": [
    "# from rapidfuzz.distance import JaroWinkler\n",
    "# from rapidfuzz import fuzz\n",
    "# import pandas as pd\n",
    "# from itertools import combinations\n",
    "# from collections import defaultdict, deque\n",
    "\n",
    "# df = pd.read_csv(\"data/clear_data.csv\", dtype={\"Phone_norm\": str, \"Zip_norm\": str})\n",
    "\n",
    "# df = df.copy()\n",
    "\n",
    "# # на всякий случай — служебные поля\n",
    "# df['Email_norm']  = df['Email_norm'].str.strip().str.lower()\n",
    "# df['Phone_norm']  = df['Phone_norm'].astype(str).str.replace(r'\\D','', regex=True)\n",
    "# df['Zip_norm']    = df['Zip_norm'].astype(str).str.zfill(5)\n",
    "# df['Name_norm']   = df['Name_norm'].str.strip().str.lower()\n",
    "# df['Street_norm'] = df['Street_norm'].str.strip().str.lower()\n",
    "# if 'City_norm' in df.columns:\n",
    "#     df['City_norm'] = df['City_norm'].str.strip().str.lower()\n",
    "\n",
    "# df['email_user']  = df['Email_norm'].str.split('@').str[0]\n",
    "# df['phone_last4'] = df['Phone_norm'].str[-4:]\n",
    "\n",
    "# # Пороги из твоего EDA (средние/квантили у истинных дублей)\n",
    "# NAME_THR   = 0.92   # Jaro–Winkler по name\n",
    "# STREET_THR = 88     # token_set_ratio по street\n",
    "# HARD_NAME  = 0.95   # «строгий» порог для некоторых правил\n"
   ]
  },
  {
   "cell_type": "code",
   "execution_count": null,
   "id": "b32177ef",
   "metadata": {},
   "outputs": [],
   "source": [
    "# def pair_features(i, j):\n",
    "#     a, b = df.loc[i], df.loc[j]\n",
    "#     # similarity\n",
    "#     name_sim   = JaroWinkler.normalized_similarity(a['Name_norm'], b['Name_norm'])\n",
    "#     street_sim = fuzz.token_set_ratio(a['Street_norm'], b['Street_norm'])\n",
    "#     # бинарные совпадения\n",
    "#     zip_eq      = a['Zip_norm'] == b['Zip_norm']\n",
    "#     city_eq     = ('City_norm' in df and a['City_norm'] == b['City_norm'])\n",
    "#     email_eq    = a['Email_norm'] == b['Email_norm']\n",
    "#     phone_eq    = a['Phone_norm'] == b['Phone_norm']\n",
    "#     email_user_eq  = a['email_user']  == b['email_user']\n",
    "#     phone_last4_eq = a['phone_last4'] == b['phone_last4']\n",
    "#     return {\n",
    "#         'name_sim': name_sim, 'street_sim': street_sim,\n",
    "#         'zip_eq': zip_eq, 'city_eq': city_eq,\n",
    "#         'email_eq': email_eq, 'phone_eq': phone_eq,\n",
    "#         'email_user_eq': email_user_eq, 'phone_last4_eq': phone_last4_eq\n",
    "#     }\n"
   ]
  },
  {
   "cell_type": "code",
   "execution_count": null,
   "id": "f25b14f3",
   "metadata": {},
   "outputs": [],
   "source": [
    "# def is_match(i, j):\n",
    "#     f = pair_features(i, j)\n",
    "\n",
    "#     # 1) Якоря: точные совпадения\n",
    "#     if f['email_eq'] or f['phone_eq']:\n",
    "#         return True\n",
    "\n",
    "#     # 2) Мягкие правила (пороги из EDA)\n",
    "#     if f['name_sim'] >= NAME_THR and (f['zip_eq'] or f['city_eq']):\n",
    "#         return True\n",
    "\n",
    "#     if f['street_sim'] >= STREET_THR and f['zip_eq']:\n",
    "#         return True\n",
    "\n",
    "#     # 3) Подстраховочные\n",
    "#     if f['email_user_eq'] and (f['zip_eq'] or f['name_sim'] >= HARD_NAME):\n",
    "#         return True\n",
    "\n",
    "#     if f['phone_last4_eq'] and f['name_sim'] >= HARD_NAME and (f['zip_eq'] or f['city_eq']):\n",
    "#         return True\n",
    "\n",
    "#     return False\n"
   ]
  },
  {
   "cell_type": "code",
   "execution_count": null,
   "id": "03d61674",
   "metadata": {},
   "outputs": [
    {
     "name": "stdout",
     "output_type": "stream",
     "text": [
      "Pairs — Precision: 1.000  Recall: 0.997  F1: 0.998\n",
      "tp=314, fp=0, fn=1, |P|=314, |T|=315, |cand|=318\n"
     ]
    }
   ],
   "source": [
    "# # cand_pairs — твой набор кандидатных пар после блокинга\n",
    "# # если нет под рукой:\n",
    "# # cand_pairs = m['cand_set']  # где m = blocking_metrics(...)\n",
    "\n",
    "\n",
    "\n",
    "# # истина (пары из одного uid)\n",
    "# def true_pairs(df, uid='uid'):\n",
    "#     S=set()\n",
    "#     for _, g in df.groupby(uid).groups.items():\n",
    "#         g=list(g)\n",
    "#         for i,j in combinations(sorted(g),2):\n",
    "#             S.add((i,j))\n",
    "#     return S\n",
    "\n",
    "# T = true_pairs(df, uid='uid')\n",
    "\n",
    "# # предсказанные совпадения\n",
    "# P = {p for p in cand_pairs if is_match(*p)}\n",
    "\n",
    "# tp = len(P & T)\n",
    "# fp = len(P - T)\n",
    "# fn = len(T - P)\n",
    "# prec = tp / (tp + fp) if (tp+fp) else 0.0\n",
    "# rec  = tp / (tp + fn) if (tp+fn) else 0.0\n",
    "# f1   = 0 if (prec+rec)==0 else 2*prec*rec/(prec+rec)\n",
    "\n",
    "# print(f'Pairs — Precision: {prec:.3f}  Recall: {rec:.3f}  F1: {f1:.3f}')\n",
    "# print(f'tp={tp}, fp={fp}, fn={fn}, |P|={len(P)}, |T|={len(T)}, |cand|={len(cand_pairs)}')\n"
   ]
  },
  {
   "cell_type": "code",
   "execution_count": null,
   "id": "74b6837e",
   "metadata": {},
   "outputs": [
    {
     "name": "stdout",
     "output_type": "stream",
     "text": [
      "Кластеров: 500\n",
      "[1, 1, 1, 2, 1]\n"
     ]
    }
   ],
   "source": [
    "# # граф смежности по предсказанным совпадениям\n",
    "# adj = defaultdict(set)\n",
    "# for i,j in P:\n",
    "#     adj[i].add(j); adj[j].add(i)\n",
    "\n",
    "# # компоненты связности — это и есть кластеры сущностей\n",
    "# visited=set(); clusters=[]\n",
    "# for v in df.index:\n",
    "#     if v in visited: continue\n",
    "#     comp=[]; q=deque([v]); visited.add(v)\n",
    "#     while q:\n",
    "#         u=q.popleft(); comp.append(u)\n",
    "#         for w in adj[u]:\n",
    "#             if w not in visited: visited.add(w); q.append(w)\n",
    "#     clusters.append(sorted(comp))\n",
    "\n",
    "# print('Кластеров:', len(clusters))\n",
    "# # пример: первые 5 кластеров и их размеры\n",
    "# print([len(c) for c in clusters[:5]])\n"
   ]
  },
  {
   "cell_type": "code",
   "execution_count": null,
   "id": "e28c6881",
   "metadata": {},
   "outputs": [
    {
     "name": "stdout",
     "output_type": "stream",
     "text": [
      "\n",
      "domain_zip\n",
      "Series([], dtype: int64)\n",
      "\n",
      "pl4_zip\n",
      "Series([], dtype: int64)\n",
      "\n",
      "name0_zip\n",
      "Series([], dtype: int64)\n",
      "\n",
      "city_zip\n",
      "Series([], dtype: int64)\n"
     ]
    }
   ],
   "source": [
    "# def heavy_keys(ser, min_size=10, top=20):\n",
    "#     sizes = ser.groupby(ser).size().sort_values(ascending=False)\n",
    "#     return sizes[sizes >= min_size].head(top)\n",
    "\n",
    "# for name, ser in blocks.items():\n",
    "#     print(f'\\n{name}')\n",
    "#     print(heavy_keys(ser, min_size=10))  # должно вывести пусто\n"
   ]
  },
  {
   "cell_type": "code",
   "execution_count": null,
   "id": "104c161e",
   "metadata": {},
   "outputs": [
    {
     "name": "stdout",
     "output_type": "stream",
     "text": [
      "{'PC': 1.0, 'RR': 0.9988178922051515, 'PQ': 0.9905660377358491, 'true_pairs': 315, 'cand_pairs': 318}\n"
     ]
    }
   ],
   "source": [
    "# MAX_BLOCK_SIZE = 100  # подбери порог под свой объём\n",
    "# pruned_blocks = {}\n",
    "# for name, ser in blocks.items():\n",
    "#     counts = ser.value_counts()\n",
    "#     ok_keys = counts[counts<=MAX_BLOCK_SIZE].index\n",
    "#     pruned_blocks[name] = ser.where(ser.isin(ok_keys), other=pd.NA)\n",
    "\n",
    "# m2 = blocking_metrics(df, pruned_blocks, uid_col='uid')\n",
    "# print({k:v for k,v in m2.items() if k not in ['size_hist','cand_set']})\n"
   ]
  }
 ],
 "metadata": {
  "kernelspec": {
   "display_name": "base",
   "language": "python",
   "name": "python3"
  },
  "language_info": {
   "codemirror_mode": {
    "name": "ipython",
    "version": 3
   },
   "file_extension": ".py",
   "mimetype": "text/x-python",
   "name": "python",
   "nbconvert_exporter": "python",
   "pygments_lexer": "ipython3",
   "version": "3.12.7"
  }
 },
 "nbformat": 4,
 "nbformat_minor": 5
}
